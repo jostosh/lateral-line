{
 "cells": [
  {
   "cell_type": "code",
   "execution_count": 1,
   "metadata": {
    "collapsed": true
   },
   "outputs": [],
   "source": [
    "%matplotlib inline\n",
    "import pandas as pd\n",
    "import os\n",
    "import matplotlib.pyplot as plt\n",
    "import matplotlib\n",
    "import matplotlib.patches as mpatches\n",
    "\n",
    "\n",
    "matplotlib.style.use('ggplot')\n",
    "from matplotlib import rc\n",
    "rc('font',**{'family':'serif','serif':['Computer Modern Roman']})\n",
    "## for Palatino and other serif fonts use:\n",
    "#rc('font',**{'family':'serif','serif':['Palatino']})\n",
    "rc('text', usetex=True)\n",
    "\n",
    "base = './v0.5'"
   ]
  },
  {
   "cell_type": "code",
   "execution_count": 6,
   "metadata": {},
   "outputs": [
    {
     "data": {
      "text/plain": [
       "'/home/jos/lateral-line/tensorboardlogs/peregrine'"
      ]
     },
     "execution_count": 6,
     "metadata": {},
     "output_type": "execute_result"
    }
   ],
   "source": [
    "os.chdir('/home/jos/lateral-line/tensorboardlogs/peregrine')\n",
    "os.getcwd()"
   ]
  },
  {
   "cell_type": "code",
   "execution_count": 8,
   "metadata": {},
   "outputs": [
    {
     "name": "stdout",
     "output_type": "stream",
     "text": [
      "['parallel_dense', 'cross_default', 'tau3', 'best', 'parallel_n01', 'parallel_m3', 'l2', 'no_sharing', 'parallel_m2', 'parallel_n02', 'parallel_multi_range', 'tau2', 'parallel_n0001', 'parallel_m1', 'parallel_default', 'parallel_m5', 'tau4', 'parallel_m0', 'tau1']\n"
     ]
    }
   ],
   "source": [
    "print(os.listdir('./v0.5'))\n",
    "\n",
    "dfs = []\n",
    "for path in os.listdir(base):\n",
    "    for run in os.listdir(os.path.join(base, path)):\n",
    "        fnm = os.path.join(base, path, run, 'results.csv')\n",
    "        if not os.path.exists(fnm):\n",
    "            continue\n",
    "        df = pd.read_csv(fnm)\n",
    "        df['model'] = path\n",
    "        dfs.append(df)"
   ]
  },
  {
   "cell_type": "code",
   "execution_count": 9,
   "metadata": {
    "collapsed": true
   },
   "outputs": [],
   "source": [
    "df = pd.concat(dfs)"
   ]
  },
  {
   "cell_type": "code",
   "execution_count": 10,
   "metadata": {
    "collapsed": true
   },
   "outputs": [],
   "source": [
    "# Get rid of tests\n",
    "df = df[df['model'] != 'test']"
   ]
  },
  {
   "cell_type": "code",
   "execution_count": 11,
   "metadata": {
    "collapsed": true
   },
   "outputs": [],
   "source": [
    "averages = df.groupby(('epoch','model')).mean().reset_index()\n",
    "stds = df.groupby(('epoch', 'model')).std().reset_index()"
   ]
  },
  {
   "cell_type": "code",
   "execution_count": 12,
   "metadata": {
    "collapsed": true
   },
   "outputs": [],
   "source": [
    "avg_pv = averages.pivot(index='epoch', columns='model')"
   ]
  },
  {
   "cell_type": "code",
   "execution_count": 25,
   "metadata": {},
   "outputs": [
    {
     "data": {
      "text/plain": [
       "<matplotlib.axes._subplots.AxesSubplot at 0x7f7fb8a474e0>"
      ]
     },
     "execution_count": 25,
     "metadata": {},
     "output_type": "execute_result"
    },
    {
     "data": {
      "image/png": "[encoded data removed]",
      "text/plain": [
       "<matplotlib.figure.Figure at 0x7f7fb8858cc0>"
      ]
     },
     "metadata": {},
     "output_type": "display_data"
    }
   ],
   "source": [
    "merge_point = avg_pv['mse'][['parallel_m0', 'parallel_m1', 'parallel_m2', 'parallel_m3', 'parallel_default']][200:]\n",
    "renaming = {'parallel_m0': \"Merge at 0\", 'parallel_m1': \"Merge at 1\", 'parallel_m2': \"Merge at 2\", 'parallel_m3': \"Merge at 3\", 'parallel_default': \"Merge at 4\"}\n",
    "merge_point.rename(columns=renaming, inplace=True)\n",
    "merge_point.boxplot()"
   ]
  },
  {
   "cell_type": "code",
   "execution_count": 15,
   "metadata": {},
   "outputs": [],
   "source": [
    "import colorlover as cl\n",
    "import numpy as np\n",
    "\n",
    "cs = cl.to_numeric(cl.scales['7']['qual']['Set1'])\n",
    "cs = np.asarray(cs) / 255.0"
   ]
  },
  {
   "cell_type": "code",
   "execution_count": 14,
   "metadata": {
    "collapsed": true
   },
   "outputs": [],
   "source": [
    "from collections import namedtuple\n",
    "\n",
    "Patch = namedtuple('Patch', 'color label')\n",
    "\n",
    "def plot_results(df, renaming, title, from_idx=225, xlabel='', rotation=0, figname='plot', colors=None, patches=[]):\n",
    "    fig = plt.figure(figsize=(8, 4))\n",
    "    subset = df['mse'][list(renaming.keys())][from_idx:]\n",
    "    subset.rename(columns=renaming, inplace=True)\n",
    "    results = list(subset.mean(axis=0).to_dict().values())\n",
    "    bars = plt.bar(np.arange(len(renaming)), results, yerr=subset.std(axis=0))\n",
    "    for bar, c in zip(bars, colors):\n",
    "        bar.set_color(c)\n",
    "    ax = plt.gca()\n",
    "    ax.set_xlabel('')\n",
    "    ax.set_ylabel('MSE')\n",
    "    ax.set_xticks(np.arange(len(renaming)))\n",
    "    ax.set_xticklabels(renaming.values(), ha='right')\n",
    "    plt.setp( ax.xaxis.get_majorticklabels(), rotation=rotation)\n",
    "    plt.plot([-.5, len(renaming)-0.5], [results[0], results[0]], linestyle='--', color='black', linewidth=1.0)\n",
    "    plt.title(title)\n",
    "    plt.ylim([0.002, 0.009])\n",
    "    \n",
    "    handles = [mpatches.Patch(color=patch.color, label=patch.label) for patch in patches]\n",
    "    plt.legend(handles=handles)\n",
    "    plt.tight_layout()\n",
    "    plt.savefig(os.path.join('/home/jos/Dropbox/RUG/5e Jaar/latline/paper/bnaic14_style/figures', figname + '.pdf'))"
   ]
  },
  {
   "cell_type": "code",
   "execution_count": 16,
   "metadata": {},
   "outputs": [
    {
     "data": {
      "image/png": "[encoded data removed]",
      "text/plain": [
       "<matplotlib.figure.Figure at 0x7f6196eb9dd8>"
      ]
     },
     "metadata": {},
     "output_type": "display_data"
    }
   ],
   "source": [
    "renaming = {\n",
    "    'tau3': 'Default',\n",
    "    'tau1': r'$\\tau=1$', \n",
    "    'tau2': r'$\\tau=2$', \n",
    "    'tau4': r'$\\tau=4$', \n",
    "    \"cross_default\": \"Fully connected\",\n",
    "    \"parallel_n0001\": r\"$0.0001\\sigma$\",\n",
    "    'parallel_n01': r\"$0.01\\sigma$\", \n",
    "    'parallel_n02': r\"$0.02\\sigma$\",\n",
    "    'parallel_m0': \"Merge at 0\", \n",
    "    'parallel_m1': \"Merge at 1\", \n",
    "    'parallel_m2': \"Merge at 2\",\n",
    "    'parallel_m5': \"No merging\",\n",
    "    'parallel_multi_range': 'Multi range',\n",
    "    'no_sharing': \"No sharing\"\n",
    "}\n",
    "\n",
    "\n",
    "plot_results(\n",
    "    avg_pv, \n",
    "    renaming, \n",
    "    '', \n",
    "    figname='results',\n",
    "    colors=[cs[4]] + [cs[0]] * 3 + [cs[1]] + [cs[2]] * 3 + [cs[3]] * 4 + [cs[5]] + [cs[6]],\n",
    "    rotation=45,\n",
    "    patches=[\n",
    "        Patch(cs[4], 'Default'),\n",
    "        Patch(cs[0], 'History length'),\n",
    "        Patch(cs[1], 'Architecture'),\n",
    "        Patch(cs[2], 'Noise level'),\n",
    "        Patch(cs[3], 'Merging index'),\n",
    "        Patch(cs[5], 'Input range'),\n",
    "        Patch(cs[6], 'Weight sharing')\n",
    "    ]\n",
    ")"
   ]
  },
  {
   "cell_type": "code",
   "execution_count": 149,
   "metadata": {},
   "outputs": [
    {
     "name": "stdout",
     "output_type": "stream",
     "text": [
      "\\begin{tabular}{lrr}\n",
      "\\toprule\n",
      "{} &      MSE &  \\$\\textbackslashpm \\textbackslashsigma\\$ \\\\\n",
      "model           &          &               \\\\\n",
      "\\midrule\n",
      "Default         & 5.04E-03 &      5.16E-04 \\\\\n",
      "\\$\\textbackslashtau=1\\$        & 4.83E-03 &      3.71E-04 \\\\\n",
      "\\$\\textbackslashtau=2\\$        & 5.25E-03 &      4.90E-04 \\\\\n",
      "\\$\\textbackslashtau=3\\$        & 5.28E-03 &      5.99E-04 \\\\\n",
      "Fully connected & 8.40E-03 &      3.29E-04 \\\\\n",
      "\\$0.0001\\textbackslashsigma\\$  & 4.84E-03 &      3.80E-04 \\\\\n",
      "\\$0.01\\textbackslashsigma\\$    & 6.07E-03 &      6.83E-04 \\\\\n",
      "\\$0.02\\textbackslashsigma\\$    & 6.35E-03 &      6.91E-04 \\\\\n",
      "Merge at 0      & 7.03E-03 &      6.20E-04 \\\\\n",
      "Merge at 1      & 6.86E-03 &      8.53E-04 \\\\\n",
      "Merge at 2      & 6.46E-03 &      8.29E-04 \\\\\n",
      "No merging      & 5.58E-03 &      5.36E-04 \\\\\n",
      "Multi range     & 4.35E-03 &      1.99E-05 \\\\\n",
      "\\bottomrule\n",
      "\\end{tabular}\n",
      "\n"
     ]
    }
   ],
   "source": [
    "from pandas import DataFrame\n",
    "\n",
    "subset = avg_pv['mse'][list(renaming.keys())][225:]\n",
    "subset.rename(columns=renaming, inplace=True)\n",
    "mean_df = subset.mean(axis=0)\n",
    "std_df = subset.std(axis=0)\n",
    "\n",
    "pd.set_option('display.float_format', '{:.2E}'.format)\n",
    "\n",
    "table_df = DataFrame({'MSE': mean_df, '$\\pm \\\\sigma$': std_df})\n",
    "print(table_df[['MSE', '$\\pm \\\\sigma$']].to_latex())"
   ]
  },
  {
   "cell_type": "code",
   "execution_count": 140,
   "metadata": {
    "collapsed": true
   },
   "outputs": [],
   "source": [
    ""
   ]
  },
  {
   "cell_type": "code",
   "execution_count": 47,
   "metadata": {},
   "outputs": [
    {
     "data": {
      "image/png": "[encoded data removed]",
      "text/plain": [
       "<matplotlib.figure.Figure at 0x7fc7deaf74a8>"
      ]
     },
     "metadata": {},
     "output_type": "display_data"
    }
   ],
   "source": [
    "plot_results(avg_pv, {'parallel_default': \"Convolutional\", \"cross_default\": \"Fully connected\"}, 'Architectures', figname='archs')"
   ]
  },
  {
   "cell_type": "code",
   "execution_count": 48,
   "metadata": {},
   "outputs": [
    {
     "data": {
      "image/png": "[encoded data removed]",
      "text/plain": [
       "<matplotlib.figure.Figure at 0x7fc7e20f8cf8>"
      ]
     },
     "metadata": {},
     "output_type": "display_data"
    }
   ],
   "source": [
    "plot_results(avg_pv, {'parallel_m0': \"Merge at 0\", 'parallel_m1': \"Merge at 1\", 'parallel_m2': \"Merge at 2\", \n",
    "                      'parallel_m3': \"Merge at 3\", 'parallel_default': \"No merging\"}, 'Stream merging', figname='merge')"
   ]
  },
  {
   "cell_type": "code",
   "execution_count": 49,
   "metadata": {},
   "outputs": [
    {
     "data": {
      "image/png": "[encoded data removed]",
      "text/plain": [
       "<matplotlib.figure.Figure at 0x7fc7e213fa58>"
      ]
     },
     "metadata": {},
     "output_type": "display_data"
    }
   ],
   "source": [
    "plot_results(avg_pv, {\"parallel_n0001\": \"$0.0001\\sigma$\", 'parallel_default': \"$0.001\\sigma$\", \n",
    "                      'parallel_n01': \"$0.01\\sigma$\", 'parallel_n02': \"$0.02\\sigma$\"}, 'Noise', figname='noise')"
   ]
  },
  {
   "cell_type": "code",
   "execution_count": 11,
   "metadata": {},
   "outputs": [
    {
     "data": {
      "image/png": "[encoded data removed]",
      "text/plain": [
       "<matplotlib.figure.Figure at 0x7f2971be3d30>"
      ]
     },
     "metadata": {},
     "output_type": "display_data"
    }
   ],
   "source": [
    "avg_pv.columns\n",
    "plot_results(avg_pv, {'parallel_default': \"Adam $\\eta=0.001$\", 'adam2': \"Adam $\\eta=0.005$\"}, rotation=90)"
   ]
  },
  {
   "cell_type": "code",
   "execution_count": 51,
   "metadata": {},
   "outputs": [
    {
     "data": {
      "image/png": "[encoded data removed]",
      "text/plain": [
       "<matplotlib.figure.Figure at 0x7fc7deb4e6d8>"
      ]
     },
     "metadata": {},
     "output_type": "display_data"
    }
   ],
   "source": [
    "plot_results(avg_pv, {'parallel_default': \"Default\", 'parallel_multi_range': \"Multi-scale\"}, 'Multiple scales', figname='scales')"
   ]
  },
  {
   "cell_type": "code",
   "execution_count": 13,
   "metadata": {
    "collapsed": true
   },
   "outputs": [],
   "source": [
    "pmr = df[df['model'] == 'parallel_multi_range']"
   ]
  },
  {
   "cell_type": "code",
   "execution_count": 15,
   "metadata": {},
   "outputs": [
    {
     "data": {
      "text/html": [
       "<div>\n",
       "<style>\n",
       "    .dataframe thead tr:only-child th {\n",
       "        text-align: right;\n",
       "    }\n",
       "\n",
       "    .dataframe thead th {\n",
       "        text-align: left;\n",
       "    }\n",
       "\n",
       "    .dataframe tbody tr th {\n",
       "        vertical-align: top;\n",
       "    }\n",
       "</style>\n",
       "<table border=\"1\" class=\"dataframe\">\n",
       "  <thead>\n",
       "    <tr style=\"text-align: right;\">\n",
       "      <th></th>\n",
       "      <th>epoch</th>\n",
       "      <th>mse</th>\n",
       "      <th>loss</th>\n",
       "      <th>model</th>\n",
       "    </tr>\n",
       "  </thead>\n",
       "  <tbody>\n",
       "    <tr>\n",
       "      <th>249</th>\n",
       "      <td>249</td>\n",
       "      <td>0.004294</td>\n",
       "      <td>189.671</td>\n",
       "      <td>parallel_multi_range</td>\n",
       "    </tr>\n",
       "    <tr>\n",
       "      <th>249</th>\n",
       "      <td>249</td>\n",
       "      <td>0.005056</td>\n",
       "      <td>202.950</td>\n",
       "      <td>parallel_multi_range</td>\n",
       "    </tr>\n",
       "    <tr>\n",
       "      <th>249</th>\n",
       "      <td>249</td>\n",
       "      <td>0.004580</td>\n",
       "      <td>189.223</td>\n",
       "      <td>parallel_multi_range</td>\n",
       "    </tr>\n",
       "    <tr>\n",
       "      <th>249</th>\n",
       "      <td>249</td>\n",
       "      <td>0.004900</td>\n",
       "      <td>193.705</td>\n",
       "      <td>parallel_multi_range</td>\n",
       "    </tr>\n",
       "    <tr>\n",
       "      <th>249</th>\n",
       "      <td>249</td>\n",
       "      <td>0.004876</td>\n",
       "      <td>188.716</td>\n",
       "      <td>parallel_multi_range</td>\n",
       "    </tr>\n",
       "  </tbody>\n",
       "</table>\n",
       "</div>"
      ],
      "text/plain": [
       "     epoch       mse     loss                 model\n",
       "249    249  0.004294  189.671  parallel_multi_range\n",
       "249    249  0.005056  202.950  parallel_multi_range\n",
       "249    249  0.004580  189.223  parallel_multi_range\n",
       "249    249  0.004900  193.705  parallel_multi_range\n",
       "249    249  0.004876  188.716  parallel_multi_range"
      ]
     },
     "execution_count": 15,
     "metadata": {},
     "output_type": "execute_result"
    }
   ],
   "source": [
    "pmr[pmr['epoch'] == 249]['mse'].std()\n",
    "pmr[pmr['epoch'] == 249]"
   ]
  }
 ],
 "metadata": {
  "kernelspec": {
   "display_name": "Python 3",
   "language": "python",
   "name": "python3"
  },
  "language_info": {
   "codemirror_mode": {
    "name": "ipython",
    "version": 3.0
   },
   "file_extension": ".py",
   "mimetype": "text/x-python",
   "name": "python",
   "nbconvert_exporter": "python",
   "pygments_lexer": "ipython3",
   "version": "3.6.0"
  }
 },
 "nbformat": 4,
 "nbformat_minor": 0
}